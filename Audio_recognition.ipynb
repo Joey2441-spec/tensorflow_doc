{
  "nbformat": 4,
  "nbformat_minor": 0,
  "metadata": {
    "colab": {
      "provenance": [],
      "authorship_tag": "ABX9TyPQyy6PibDwZQlA4okDYXHf",
      "include_colab_link": true
    },
    "kernelspec": {
      "name": "python3",
      "display_name": "Python 3"
    },
    "language_info": {
      "name": "python"
    }
  },
  "cells": [
    {
      "cell_type": "markdown",
      "metadata": {
        "id": "view-in-github",
        "colab_type": "text"
      },
      "source": [
        "<a href=\"https://colab.research.google.com/github/Joey2441-spec/tensorflow_doc/blob/main/Audio_recognition.ipynb\" target=\"_parent\"><img src=\"https://colab.research.google.com/assets/colab-badge.svg\" alt=\"Open In Colab\"/></a>"
      ]
    },
    {
      "cell_type": "markdown",
      "source": [
        "#Audio recognition of numbers\n",
        "Using Audio MNIST, 30000 audio samples of spoken digits (0-9) of 60 different speakers for 500 audio samples per speaker and each speaker has their own directory. So we would need to shuffle and create train and test sets.\n",
        "\n",
        "https://github.com/soerenab/AudioMNIST"
      ],
      "metadata": {
        "id": "nlzTNCCebJRy"
      }
    },
    {
      "cell_type": "code",
      "execution_count": 2,
      "metadata": {
        "id": "MvVxai9DxUty"
      },
      "outputs": [],
      "source": [
        "import tensorflow as tf\n",
        "from tensorflow import keras\n",
        "from tensorflow.keras import layers"
      ]
    },
    {
      "cell_type": "markdown",
      "source": [
        "#Get Audio MNIST from github"
      ],
      "metadata": {
        "id": "_BkRYD_EbIeV"
      }
    },
    {
      "cell_type": "code",
      "source": [
        "# Clone repo\n",
        "!git clone https://github.com/soerenab/AudioMNIST audio_mnist"
      ],
      "metadata": {
        "id": "KvhicqVWyX8e"
      },
      "execution_count": null,
      "outputs": []
    },
    {
      "cell_type": "markdown",
      "source": [
        "#Append all audio to a list"
      ],
      "metadata": {
        "id": "Q_k4QkiDiRS5"
      }
    },
    {
      "cell_type": "code",
      "source": [
        "import os\n",
        "\n",
        "base_url = '/content/audio_mnist/data'\n",
        "wav_paths = []\n",
        "\n",
        "# grab the data of 10 speakers so 5000 samples\n",
        "# development use only 1 speaker so 500 samples\n",
        "for i in sorted(os.listdir(base_url)[:2]):\n",
        "  try:\n",
        "    for audio in sorted(os.listdir(os.path.join(base_url, i))):\n",
        "      wav_paths.append(os.path.join(base_url, i, audio))\n",
        "  except Exception as e:\n",
        "    pass\n"
      ],
      "metadata": {
        "id": "qzWpH4F4h-0w"
      },
      "execution_count": 54,
      "outputs": []
    },
    {
      "cell_type": "markdown",
      "source": [
        "#Visualize the audio"
      ],
      "metadata": {
        "id": "2NrQm5I6qtec"
      }
    },
    {
      "cell_type": "code",
      "source": [
        "import librosa\n",
        "from IPython.display import Audio\n",
        "\n",
        "audio, sr = librosa.load(wav_paths[0])\n",
        "audio = librosa.util.normalize(audio) # get it between -1 - 1\n",
        "audiowgt = Audio(data=audio, rate=sr)\n",
        "display(audiowgt)\n",
        "librosa.display.waveshow(audio, sr=sr)"
      ],
      "metadata": {
        "id": "gpmnOIQIpLCw"
      },
      "execution_count": null,
      "outputs": []
    },
    {
      "cell_type": "markdown",
      "source": [
        "#Resample audio to be a fixed length of 1 sec based on sampling rate (sampling per second)"
      ],
      "metadata": {
        "id": "j2AOrRYOtHZW"
      }
    },
    {
      "cell_type": "code",
      "source": [
        "def get_mfcc(path,aug=False):\n",
        "    '''Get mel-frequency cepstral coefficients for the audio frame\n",
        "\n",
        "    Args:\n",
        "    path: Audio File Path\n",
        "    snr: Signal to noise value >1 , <100\n",
        "    aug: bool , whether to return augumented mfccs'''\n",
        "    audio,sr = load_audio(path)\n",
        "    audio = librosa.util.normalize(audio)\n",
        "    mfcc = librosa.feature.mfcc(y=audio,sr=sr,n_mfcc=13,hop_length=512,n_fft=2048)\n",
        "    if aug:\n",
        "        aug_mfcc = librosa.feature.mfcc(y=aug_audio,sr=sr,n_mfcc=13,hop_length=512,n_fft=2048)\n",
        "        return [np.expand_dims(mfcc,axis=-1),np.expand_dims(aug_mfcc,axis=-1)]\n",
        "    return np.expand_dims(mfcc,axis=-1)"
      ],
      "metadata": {
        "id": "3ZSyZJbVs9dl"
      },
      "execution_count": 70,
      "outputs": []
    },
    {
      "cell_type": "markdown",
      "source": [
        "#Feature extraction of, Mel Spectrogram, Spectrogram, Periodogram, MFCC"
      ],
      "metadata": {
        "id": "qJuPv2toTiSm"
      }
    },
    {
      "cell_type": "code",
      "source": [
        "import numpy as np\n",
        "#Mel spectrogram\n",
        "def get_mfcc(path):\n",
        "  audio, sr = load_audio(path)\n",
        "  audio = librosa.util.normalize(audio)\n",
        "  mfcc = librosa.feature.mfcc(y=audio, sr=sr, n_mfcc=13, hop_length=512, n_fft=2048)\n",
        "\n",
        "  return np.expand_dims(mfcc, axis=-1)\n",
        "\n"
      ],
      "metadata": {
        "id": "iirlekOpTF2B"
      },
      "execution_count": 63,
      "outputs": []
    },
    {
      "cell_type": "code",
      "source": [
        "X = []\n",
        "Y = []\n",
        "k = 0\n",
        "\n",
        "for i in wav_paths:\n",
        "  k += 1\n",
        "  display(k)\n",
        "  # /content/audio_mnist/data/01/0_01_0.wav\n",
        "  clss = i.split('/')[-1].split('.')[0].split('_')[0] # holds the correct classification for an audio sample\n",
        "  mfcs = get_mfcc(i)\n",
        "\n",
        "  # each sample has a size of (13, 44, 1)\n",
        "  X.append(mfcs)\n",
        "  Y.append(int(clss))\n",
        "  clear_output(wait=True)\n",
        "\n"
      ],
      "metadata": {
        "colab": {
          "base_uri": "https://localhost:8080/",
          "height": 34
        },
        "id": "gvJ0MxSbnMqg",
        "outputId": "126e9e0a-ff3f-46c0-c08c-67fc6dead0b5"
      },
      "execution_count": 74,
      "outputs": [
        {
          "output_type": "display_data",
          "data": {
            "text/plain": [
              "1000"
            ]
          },
          "metadata": {}
        }
      ]
    },
    {
      "cell_type": "markdown",
      "source": [
        "Get Train, Test datasets"
      ],
      "metadata": {
        "id": "_3ilBeZit1VB"
      }
    },
    {
      "cell_type": "code",
      "source": [
        "from sklearn.model_selection import train_test_split\n",
        "\n",
        "# 20% of data is used to test\n",
        "x_train, x_test, y_train, y_test = train_test_split(np.asarray(X), np.asarray(Y), test_size=0.2, random_state=42)\n",
        "\n"
      ],
      "metadata": {
        "id": "gGA1yFWOsjzt"
      },
      "execution_count": 75,
      "outputs": []
    },
    {
      "cell_type": "code",
      "source": [
        "import matplotlib.pyplot as plt\n",
        "\n",
        "'''\n",
        "plot the loss graph, accuracy graph from both training and testing,\n",
        "optionally can save the model to a file\n",
        "\n",
        "history : the return of calling .fit\n",
        "epochs : the number of training iterations\n",
        "'''\n",
        "def plot(history, epochs, model=None, save=False):\n",
        "  hist = history.history\n",
        "  plt.subplot(1,2,1)\n",
        "  plt.title('Loss Graph')\n",
        "  plt.plot(range(epochs), hist['loss'], color='r', label='Loss')\n",
        "  # val_loss = validation loss\n",
        "  plt.plot(range(epochs), hist['val_loss'], color='g', label=\"val_loss\")\n",
        "  plt.legend()\n",
        "  plt.tight_layout()\n",
        "  plt.subplot(1,2,2)\n",
        "  plt.title('Accuracy Graph')\n",
        "  plt.plot(range(epochs),hist['accuracy'],color='r',label='accuracy')\n",
        "  plt.plot(range(epochs),hist['val_accuracy'],color='g',label='Val_accuracy')\n",
        "  plt.legend()\n",
        "  plt.tight_layout()\n",
        "  plt.suptitle('Loss-Accuracy Plot')\n",
        "  l_low , a_max = min(hist['val_loss']) , max(hist['val_accuracy'])\n",
        "  if save and model != None:\n",
        "    plt.savefig(f'./progress/history plot/lmin{l_low}_amin{a_max}.png')\n",
        "    model.save(f'./progress/model/lmin{l_low}_amin{a_max}.h5')\n",
        "    print('Plot and Model Saved')"
      ],
      "metadata": {
        "id": "lAj_vYlkwkvu"
      },
      "execution_count": 86,
      "outputs": []
    },
    {
      "cell_type": "code",
      "source": [
        "x_train[1].shape"
      ],
      "metadata": {
        "id": "nf9z_cJN2xgs"
      },
      "execution_count": null,
      "outputs": []
    },
    {
      "cell_type": "markdown",
      "source": [
        "#Create the Model"
      ],
      "metadata": {
        "id": "USDdnNT-zhG6"
      }
    },
    {
      "cell_type": "code",
      "source": [
        "from tensorflow.keras.layers import Conv2D, MaxPooling2D, Dense, GlobalMaxPool2D\n",
        "from tensorflow.keras import Sequential\n",
        "def build_model():\n",
        "  model = Sequential()\n",
        "  # valid = will shrink the output space a little and outer feature are less pronounced.\n",
        "  # relu activation will be from 0-1\n",
        "  model.add(Conv2D(64, (3), input_shape=x_train[0].shape, padding='valid', activation='relu'))\n",
        "  model.add(Conv2D(64, (3), padding='valid', activation='relu'))\n",
        "  model.add(MaxPooling2D(pool_size=(3), strides=(2), padding='same'))\n",
        "  model.add(Conv2D(128, (3), padding='valid', activation='relu'))\n",
        "  model.add(GlobalMaxPool2D())\n",
        "  model.add(Dense(64, activation='relu'))\n",
        "  model.add(Dense(32, activation='relu'))\n",
        "  model.add(Dense(10, activation='softmax'))\n",
        "  return model\n",
        "\n",
        "model = build_model()\n",
        "model.compile(optimizer=tf.keras.optimizers.Adam(),\n",
        "              loss=tf.keras.losses.sparse_categorical_crossentropy,\n",
        "              metrics=['accuracy'])\n",
        "\n",
        "model.summary()\n",
        "\n",
        "\n"
      ],
      "metadata": {
        "id": "Z6U9pMEtzjFL"
      },
      "execution_count": null,
      "outputs": []
    },
    {
      "cell_type": "markdown",
      "source": [
        "#Train model"
      ],
      "metadata": {
        "id": "hC5WxLkV-Rag"
      }
    },
    {
      "cell_type": "code",
      "source": [
        "es_cb = tf.keras.callbacks.EarlyStopping(monitor='loss', patience=5)"
      ],
      "metadata": {
        "id": "JIDzmbPL_f3V"
      },
      "execution_count": 81,
      "outputs": []
    },
    {
      "cell_type": "code",
      "source": [
        "history = model.fit(x_train, y_train, batch_size=32, epochs=10, validation_data=(x_test,y_test), callbacks=[es_cb])\n"
      ],
      "metadata": {
        "id": "lBDHEAUf_sOp"
      },
      "execution_count": null,
      "outputs": []
    },
    {
      "cell_type": "code",
      "source": [
        "plot(history,len(history.history['val_loss']))"
      ],
      "metadata": {
        "colab": {
          "base_uri": "https://localhost:8080/",
          "height": 492
        },
        "id": "dBsf3FGWAAsK",
        "outputId": "9cdbaf1f-4393-4586-cdf6-647c112fc42f"
      },
      "execution_count": 90,
      "outputs": [
        {
          "output_type": "display_data",
          "data": {
            "text/plain": [
              "<Figure size 640x480 with 2 Axes>"
            ],
            "image/png": "[encoded data removed]"
          },
          "metadata": {}
        }
      ]
    },
    {
      "cell_type": "code",
      "source": [
        "pred = model.predict(x_train)"
      ],
      "metadata": {
        "id": "pd4W-_RmBJye"
      },
      "execution_count": null,
      "outputs": []
    },
    {
      "cell_type": "code",
      "source": [
        "preds = [np.argmax(i) for i in pred]"
      ],
      "metadata": {
        "id": "BZYVjq8pBjwQ"
      },
      "execution_count": 92,
      "outputs": []
    },
    {
      "cell_type": "code",
      "source": [
        "from sklearn.metrics import classification_report\n",
        "\n",
        "print(classification_report(y_test,preds))"
      ],
      "metadata": {
        "id": "ziSR-TxcBaWp"
      },
      "execution_count": null,
      "outputs": []
    },
    {
      "cell_type": "code",
      "source": [
        "from sklearn.metrics import confusion_matrix\n",
        "import seaborn as sns"
      ],
      "metadata": {
        "id": "TFvuGDzJCC1K"
      },
      "execution_count": 105,
      "outputs": []
    },
    {
      "cell_type": "code",
      "source": [
        "cfm = confusion_matrix(y_test,preds)\n",
        "sns.heatmap(cfm,annot=True,fmt='d')\n",
        "plt.title('Confusion Matrix')\n",
        "plt.show()"
      ],
      "metadata": {
        "id": "cQJPvzNGCETN"
      },
      "execution_count": null,
      "outputs": []
    },
    {
      "cell_type": "markdown",
      "source": [
        "# Using the trained model"
      ],
      "metadata": {
        "id": "Zoll6JgYCe9H"
      }
    },
    {
      "cell_type": "code",
      "source": [
        "import os\n",
        "\n",
        "base_url = '/content/audio_mnist/data'\n",
        "wav_paths = []\n",
        "\n",
        "# grab the data of 10 speakers so 5000 samples\n",
        "# development use only 1 speaker so 500 samples\n",
        "for i in sorted(os.listdir(base_url)[13:14]):\n",
        "  try:\n",
        "    for audio in sorted(os.listdir(os.path.join(base_url, i))):\n",
        "      wav_paths.append(os.path.join(base_url, i, audio))\n",
        "  except Exception as e:\n",
        "    pass"
      ],
      "metadata": {
        "id": "nkcuLnqACRd4"
      },
      "execution_count": 126,
      "outputs": []
    },
    {
      "cell_type": "code",
      "source": [
        "X = []\n",
        "Y = []\n",
        "k = 0\n",
        "\n",
        "for i in wav_paths:\n",
        "  k += 1\n",
        "  display(k)\n",
        "  # /content/audio_mnist/data/01/0_01_0.wav\n",
        "  clss = i.split('/')[-1].split('.')[0].split('_')[0] # holds the correct classification for an audio sample\n",
        "  mfcs = get_mfcc(i)\n",
        "\n",
        "  # each sample has a size of (13, 44, 1)\n",
        "  X.append(mfcs)\n",
        "  Y.append(int(clss))\n",
        "  clear_output(wait=True)\n"
      ],
      "metadata": {
        "id": "-3Wa-vmHCwDV"
      },
      "execution_count": null,
      "outputs": []
    },
    {
      "cell_type": "code",
      "source": [
        "a = 40\n",
        "b = 200\n",
        "X = np.asarray(X)\n",
        "ans = Y[a:b]\n",
        "\n",
        "\n",
        "prediction = model.predict(X[a:b])\n",
        "print(\"Pred ......... Label\")\n",
        "for i in range(b - a):\n",
        "  pred = np.argmax(prediction[i])\n",
        "  label = ans[i]\n",
        "  print(f\"{pred}{label:20}\")\n",
        "\n",
        "\n"
      ],
      "metadata": {
        "id": "iSvETkKEC8rZ"
      },
      "execution_count": null,
      "outputs": []
    }
  ]
}